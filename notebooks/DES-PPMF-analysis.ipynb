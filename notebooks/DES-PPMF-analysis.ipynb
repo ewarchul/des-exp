{
 "cells": [
  {
   "cell_type": "code",
   "execution_count": 3,
   "metadata": {},
   "outputs": [],
   "source": [
    "library(tidyverse)\n",
    "library(magrittr)\n",
    "library(zeallot)\n",
    "source('../R/des-classic.R')\n",
    "source(\"../R/des-ppmf.R\")\n",
    "source(\"../R/utils.R\")\n",
    "options(repr.plot.width=12, repr.plot.height=6)"
   ]
  },
  {
   "cell_type": "code",
   "execution_count": 4,
   "metadata": {},
   "outputs": [],
   "source": [
    "res_cls = \n",
    "    run_experiment(optimalg = des_classic, eval = crossprod, dims = c(10, 20, 30), x0 = 90, control = list(Lamarckian ))"
   ]
  },
  {
   "cell_type": "code",
   "execution_count": null,
   "metadata": {},
   "outputs": [],
   "source": [
    "res_ppmf = \n",
    "    run_experiment(optimalg = des_ppmf, eval = crossprod, dims = c(10, 20, 30), x0 = 90, control = list(d_param = 2))"
   ]
  },
  {
   "cell_type": "code",
   "execution_count": null,
   "metadata": {},
   "outputs": [],
   "source": [
    "res = \n",
    "    merge_results(list(res_cls, res_ppmf))"
   ]
  },
  {
   "cell_type": "code",
   "execution_count": null,
   "metadata": {},
   "outputs": [],
   "source": [
    "res %>% \n",
    "    vg_plot(yval = \"best_pop\", color_column = \"label\", scale_y_log = 1) +\n",
    "    facet_wrap( ~ Dim)"
   ]
  },
  {
   "cell_type": "code",
   "execution_count": null,
   "metadata": {},
   "outputs": [],
   "source": [
    "res_ppmf %>%\n",
    "    dplyr::filter(Dim == 30) %>%\n",
    "    vg_plot(yval = \"sigma\", color_column = \"label\", scale_y_log = 0) +\n",
    "    ggplot2::facet_wrap( ~ Dim)"
   ]
  },
  {
   "cell_type": "code",
   "execution_count": null,
   "metadata": {},
   "outputs": [],
   "source": [
    "res_ppmf"
   ]
  },
  {
   "cell_type": "code",
   "execution_count": null,
   "metadata": {},
   "outputs": [],
   "source": []
  }
 ],
 "metadata": {
  "kernelspec": {
   "display_name": "R",
   "language": "R",
   "name": "ir"
  },
  "language_info": {
   "codemirror_mode": "r",
   "file_extension": ".r",
   "mimetype": "text/x-r-source",
   "name": "R",
   "pygments_lexer": "r",
   "version": "4.0.3"
  }
 },
 "nbformat": 4,
 "nbformat_minor": 4
}
